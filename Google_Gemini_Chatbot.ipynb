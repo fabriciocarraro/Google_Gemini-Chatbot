{
  "cells": [
    {
      "cell_type": "markdown",
      "metadata": {
        "id": "view-in-github",
        "colab_type": "text"
      },
      "source": [
        "<a href=\"https://colab.research.google.com/github/fabriciocarraro/Google_Gemini-Chatbot/blob/main/Google_Gemini_Chatbot.ipynb\" target=\"_parent\"><img src=\"https://colab.research.google.com/assets/colab-badge.svg\" alt=\"Open In Colab\"/></a>"
      ]
    },
    {
      "cell_type": "code",
      "execution_count": 1,
      "metadata": {
        "id": "nFQLKQ6hfXch"
      },
      "outputs": [],
      "source": [
        "!pip install -q -U google-generativeai"
      ]
    },
    {
      "cell_type": "code",
      "execution_count": 2,
      "metadata": {
        "id": "IthzwfnAfcsi"
      },
      "outputs": [],
      "source": [
        "import google.generativeai as genai\n",
        "from google.colab import userdata\n",
        "\n",
        "GEMINI_API_KEY=userdata.get('GEMINI_API_KEY')\n",
        "genai.configure(api_key=GEMINI_API_KEY)"
      ]
    },
    {
      "cell_type": "code",
      "execution_count": 4,
      "metadata": {
        "colab": {
          "base_uri": "https://localhost:8080/",
          "height": 138
        },
        "id": "iD3ihugymWBt",
        "outputId": "8d3c60d5-9d75-4dd2-cb35-c90e17bdd7ef"
      },
      "outputs": [
        {
          "output_type": "stream",
          "name": "stdout",
          "text": [
            "models/gemini-1.0-pro\n",
            "models/gemini-1.0-pro-001\n",
            "models/gemini-1.0-pro-latest\n",
            "models/gemini-1.0-pro-vision-latest\n",
            "models/gemini-1.5-pro-latest\n",
            "models/gemini-pro\n",
            "models/gemini-pro-vision\n"
          ]
        }
      ],
      "source": [
        "#Listing available generative models\n",
        "for m in genai.list_models():\n",
        "  if 'generateContent' in m.supported_generation_methods:\n",
        "    print(m.name)"
      ]
    },
    {
      "cell_type": "code",
      "execution_count": 5,
      "metadata": {
        "id": "O1ochaeyDn_o"
      },
      "outputs": [],
      "source": [
        "generation_config = {\n",
        "  \"candidate_count\": 1,\n",
        "  \"temperature\": 0.5,\n",
        "}"
      ]
    },
    {
      "cell_type": "code",
      "execution_count": 6,
      "metadata": {
        "id": "jwBv7DofDofw"
      },
      "outputs": [],
      "source": [
        "safety_settings={\n",
        "    'HATE': 'BLOCK_NONE',\n",
        "    'HARASSMENT': 'BLOCK_NONE',\n",
        "    'SEXUAL' : 'BLOCK_NONE',\n",
        "    'DANGEROUS' : 'BLOCK_NONE'\n",
        "    }"
      ]
    },
    {
      "cell_type": "code",
      "execution_count": 7,
      "metadata": {
        "id": "NIiSs1R5mVJE"
      },
      "outputs": [],
      "source": [
        "model = genai.GenerativeModel(model_name='gemini-1.0-pro',\n",
        "                                  generation_config=generation_config,\n",
        "                                  safety_settings=safety_settings,)"
      ]
    },
    {
      "cell_type": "code",
      "execution_count": 8,
      "metadata": {
        "colab": {
          "base_uri": "https://localhost:8080/",
          "height": 36
        },
        "id": "vrRjhT2rlrU_",
        "outputId": "5494dcbc-5cce-45a6-dc71-3d278d3d7634"
      },
      "outputs": [
        {
          "output_type": "execute_result",
          "data": {
            "text/plain": [
              "'Google'"
            ],
            "application/vnd.google.colaboratory.intrinsic+json": {
              "type": "string"
            }
          },
          "metadata": {},
          "execution_count": 8
        }
      ],
      "source": [
        "#Testing the generation\n",
        "response = model.generate_content(\"Which company created the Gemini AI model?\")\n",
        "response.text"
      ]
    },
    {
      "cell_type": "code",
      "execution_count": 9,
      "metadata": {
        "colab": {
          "base_uri": "https://localhost:8080/",
          "height": 384
        },
        "id": "KpaQ6hm5f2_J",
        "outputId": "f1fb473a-9c73-4910-cebd-5eefe67cbf3e"
      },
      "outputs": [
        {
          "name": "stdout",
          "output_type": "stream",
          "text": [
            "Waiting for prompt: What is the Sun made of?\n",
            "Answer: The Sun is made up of approximately 71% hydrogen, 27% helium, and 2% other elements, including oxygen, carbon, neon, iron, silicon, magnesium, sulfur, and nickel. \n",
            "\n",
            "Waiting for prompt: What about Earth?\n",
            "Answer: Earth is made up of the following elements, in order of decreasing abundance:\n",
            "\n",
            "* Iron (32.1%)\n",
            "* Oxygen (30.1%)\n",
            "* Silicon (15.1%)\n",
            "* Magnesium (13.9%)\n",
            "* Sulfur (2.9%)\n",
            "* Nickel (1.8%)\n",
            "* Calcium (1.5%)\n",
            "* Aluminum (1.4%)\n",
            "* Manganese (1.1%)\n",
            "* Other elements (0.2%)\n",
            "\n",
            "These elements are arranged in layers, with the heaviest elements (iron and nickel) forming the Earth's core, and the lighter elements (oxygen, silicon, and aluminum) forming the crust. The mantle, which lies between the core and the crust, is composed of denser materials than the crust but less dense than the core. \n",
            "\n",
            "Waiting for prompt: end\n"
          ]
        }
      ],
      "source": [
        "chat = model.start_chat(history=[])\n",
        "\n",
        "prompt = input('Waiting for prompt: ')\n",
        "\n",
        "while prompt != \"end\":\n",
        "  response = chat.send_message(prompt)\n",
        "  print(\"Answer:\", response.text, '\\n')\n",
        "  prompt = input('Waiting for prompt: ')"
      ]
    },
    {
      "cell_type": "code",
      "execution_count": 10,
      "metadata": {
        "id": "XLAniTTDhHNW",
        "colab": {
          "base_uri": "https://localhost:8080/"
        },
        "outputId": "2a6c8f17-776b-4a3e-bd9e-1550aafd8429"
      },
      "outputs": [
        {
          "output_type": "execute_result",
          "data": {
            "text/plain": [
              "ChatSession(\n",
              "    model=genai.GenerativeModel(\n",
              "        model_name='models/gemini-1.0-pro',\n",
              "        generation_config={'candidate_count': 1, 'temperature': 0.5},\n",
              "        safety_settings={<HarmCategory.HARM_CATEGORY_HATE_SPEECH: 8>: <HarmBlockThreshold.BLOCK_NONE: 4>, <HarmCategory.HARM_CATEGORY_HARASSMENT: 7>: <HarmBlockThreshold.BLOCK_NONE: 4>, <HarmCategory.HARM_CATEGORY_SEXUALLY_EXPLICIT: 9>: <HarmBlockThreshold.BLOCK_NONE: 4>, <HarmCategory.HARM_CATEGORY_DANGEROUS_CONTENT: 10>: <HarmBlockThreshold.BLOCK_NONE: 4>},\n",
              "        tools=None,\n",
              "        system_instruction=None,\n",
              "    ),\n",
              "    history=[glm.Content({'parts': [{'text': 'What is the Sun made of?'}], 'role': 'user'}), glm.Content({'parts': [{'text': 'The Sun is m..., and nickel.'}], 'role': 'model'}), glm.Content({'parts': [{'text': 'What about Earth?'}], 'role': 'user'}), glm.Content({'parts': [{'text': 'Earth is mad...han the core.'}], 'role': 'model'})]\n",
              ")"
            ]
          },
          "metadata": {},
          "execution_count": 10
        }
      ],
      "source": [
        "chat"
      ]
    },
    {
      "cell_type": "code",
      "execution_count": 11,
      "metadata": {
        "id": "sd8mvW9KghTf",
        "colab": {
          "base_uri": "https://localhost:8080/"
        },
        "outputId": "a856db1e-673f-487f-f4b4-0a3751b7292f"
      },
      "outputs": [
        {
          "output_type": "execute_result",
          "data": {
            "text/plain": [
              "[parts {\n",
              "   text: \"What is the Sun made of?\"\n",
              " }\n",
              " role: \"user\",\n",
              " parts {\n",
              "   text: \"The Sun is made up of approximately 71% hydrogen, 27% helium, and 2% other elements, including oxygen, carbon, neon, iron, silicon, magnesium, sulfur, and nickel.\"\n",
              " }\n",
              " role: \"model\",\n",
              " parts {\n",
              "   text: \"What about Earth?\"\n",
              " }\n",
              " role: \"user\",\n",
              " parts {\n",
              "   text: \"Earth is made up of the following elements, in order of decreasing abundance:\\n\\n* Iron (32.1%)\\n* Oxygen (30.1%)\\n* Silicon (15.1%)\\n* Magnesium (13.9%)\\n* Sulfur (2.9%)\\n* Nickel (1.8%)\\n* Calcium (1.5%)\\n* Aluminum (1.4%)\\n* Manganese (1.1%)\\n* Other elements (0.2%)\\n\\nThese elements are arranged in layers, with the heaviest elements (iron and nickel) forming the Earth\\'s core, and the lighter elements (oxygen, silicon, and aluminum) forming the crust. The mantle, which lies between the core and the crust, is composed of denser materials than the crust but less dense than the core.\"\n",
              " }\n",
              " role: \"model\"]"
            ]
          },
          "metadata": {},
          "execution_count": 11
        }
      ],
      "source": [
        "chat.history"
      ]
    },
    {
      "cell_type": "code",
      "execution_count": 12,
      "metadata": {
        "id": "dAcbPBocgzeX",
        "colab": {
          "base_uri": "https://localhost:8080/",
          "height": 523
        },
        "outputId": "f0fee8fb-315d-4d5d-e701-cbb77ce6d066"
      },
      "outputs": [
        {
          "output_type": "display_data",
          "data": {
            "text/plain": [
              "<IPython.core.display.Markdown object>"
            ],
            "text/markdown": "> **user**: What is the Sun made of?"
          },
          "metadata": {}
        },
        {
          "output_type": "stream",
          "name": "stdout",
          "text": [
            "-------------------------------------------\n"
          ]
        },
        {
          "output_type": "display_data",
          "data": {
            "text/plain": [
              "<IPython.core.display.Markdown object>"
            ],
            "text/markdown": "> **model**: The Sun is made up of approximately 71% hydrogen, 27% helium, and 2% other elements, including oxygen, carbon, neon, iron, silicon, magnesium, sulfur, and nickel."
          },
          "metadata": {}
        },
        {
          "output_type": "stream",
          "name": "stdout",
          "text": [
            "-------------------------------------------\n"
          ]
        },
        {
          "output_type": "display_data",
          "data": {
            "text/plain": [
              "<IPython.core.display.Markdown object>"
            ],
            "text/markdown": "> **user**: What about Earth?"
          },
          "metadata": {}
        },
        {
          "output_type": "stream",
          "name": "stdout",
          "text": [
            "-------------------------------------------\n"
          ]
        },
        {
          "output_type": "display_data",
          "data": {
            "text/plain": [
              "<IPython.core.display.Markdown object>"
            ],
            "text/markdown": "> **model**: Earth is made up of the following elements, in order of decreasing abundance:\n> \n> * Iron (32.1%)\n> * Oxygen (30.1%)\n> * Silicon (15.1%)\n> * Magnesium (13.9%)\n> * Sulfur (2.9%)\n> * Nickel (1.8%)\n> * Calcium (1.5%)\n> * Aluminum (1.4%)\n> * Manganese (1.1%)\n> * Other elements (0.2%)\n> \n> These elements are arranged in layers, with the heaviest elements (iron and nickel) forming the Earth's core, and the lighter elements (oxygen, silicon, and aluminum) forming the crust. The mantle, which lies between the core and the crust, is composed of denser materials than the crust but less dense than the core."
          },
          "metadata": {}
        },
        {
          "output_type": "stream",
          "name": "stdout",
          "text": [
            "-------------------------------------------\n"
          ]
        }
      ],
      "source": [
        "#Improving visualization with Markdown\n",
        "import textwrap\n",
        "from IPython.display import display\n",
        "from IPython.display import Markdown\n",
        "\n",
        "def to_markdown(text):\n",
        "  text = text.replace('•', '  *')\n",
        "  return Markdown(textwrap.indent(text, '> ', predicate=lambda _: True))\n",
        "\n",
        "#Imprimindo o histórico\n",
        "for message in chat.history:\n",
        "  display(to_markdown(f'**{message.role}**: {message.parts[0].text}'))\n",
        "  print('-------------------------------------------')"
      ]
    }
  ],
  "metadata": {
    "colab": {
      "provenance": [],
      "authorship_tag": "ABX9TyNjxjbxwDPyNHA4WH0BHvyG",
      "include_colab_link": true
    },
    "kernelspec": {
      "display_name": "Python 3",
      "name": "python3"
    },
    "language_info": {
      "name": "python"
    }
  },
  "nbformat": 4,
  "nbformat_minor": 0
}